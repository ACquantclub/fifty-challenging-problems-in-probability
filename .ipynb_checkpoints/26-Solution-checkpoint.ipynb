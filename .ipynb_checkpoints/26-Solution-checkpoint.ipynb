{
 "cells": [
  {
   "cell_type": "markdown",
   "metadata": {},
   "source": [
    "# The Hurried Duelers\n",
    "\n",
    "- Duels in the town of Discretion are rarely fatal\n",
    "- There, each contestant comes at a random moment between 5am and 6am on the appointed day, and leaves exactly 5 minutes later, honor served, unless his opponent arrives within the time interval and then they fight\n",
    "- *What fraction of duels lead to violence?*"
   ]
  },
  {
   "cell_type": "markdown",
   "metadata": {},
   "source": [
    "_____\n",
    "- For simplicity, we'll consider 5am to be $t=0$ and 6am to be $t=60$\n",
    "- We can think of the times that they arrive as darts being thrown at a measuring tape with 0 at one end and 60 at the other\n",
    "\n",
    "- First, we consider the simple scenario that the first dart thrown lands at point $x$, where $5\\leq x\\leq55$\n",
    "    - Then, the probability that the second dart is within 5 of x is equal to $\\frac{10}{50} = 0.2$"
   ]
  },
  {
   "cell_type": "markdown",
   "metadata": {},
   "source": [
    "- Therefore\n",
    "\n",
    "$$\n",
    "P(\\text{They duel  } | 5\\leq x \\leq55) = 0.2\n",
    "$$"
   ]
  },
  {
   "cell_type": "markdown",
   "metadata": {},
   "source": [
    "- Now, if x is between 0 and 5, or between 55 and 60, then we need to modify the range "
   ]
  }
 ],
 "metadata": {
  "kernelspec": {
   "display_name": "Python 3",
   "language": "python",
   "name": "python3"
  },
  "language_info": {
   "codemirror_mode": {
    "name": "ipython",
    "version": 3
   },
   "file_extension": ".py",
   "mimetype": "text/x-python",
   "name": "python",
   "nbconvert_exporter": "python",
   "pygments_lexer": "ipython3",
   "version": "3.6.5"
  }
 },
 "nbformat": 4,
 "nbformat_minor": 2
}
