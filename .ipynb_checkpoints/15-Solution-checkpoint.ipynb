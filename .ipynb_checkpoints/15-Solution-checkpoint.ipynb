{
 "cells": [
  {
   "cell_type": "markdown",
   "metadata": {},
   "source": [
    "# The Theatre Row\n",
    "\n",
    "- Eight eligible bachelors and seven beautiful models happen randomly to have purchased single seats in the same 15 seat row of a theatre\n",
    "    - *On average, how many pairs of adjacent seats are ticketed for marriageable couples?*"
   ]
  },
  {
   "cell_type": "markdown",
   "metadata": {},
   "source": [
    "_____\n",
    "\n",
    "- **Note**: this is similar to the problem \"how many ways can you put N letters into M mailboxes?\"\n",
    "    - In this problem, we'll assume all the bachelors are identical and all the models are identical\n",
    "\n",
    "- This question is asking the following: in the average seating arrangement, how many male-female pairs can you make with people sitting next to eachother\n",
    "\n",
    "- Let's imagine that all the men line up to take their seats before the women"
   ]
  },
  {
   "cell_type": "markdown",
   "metadata": {},
   "source": [
    "- Now, let's visalize the 8 men:\n",
    "\n",
    "$$\n",
    "\\text{__}M_{1} \\text{__} M_{2} \\text{__} M_{3}\\text{__} M_{4} \\text{__} M_{5}\\text{__} M_{6} \\text{__} M_{7}\\text{__} M_{8}\\text{__}\n",
    "$$"
   ]
  },
  {
   "cell_type": "markdown",
   "metadata": {},
   "source": [
    "- As we see, there are 7 gaps between the men, and 1 on each end where the women can be\n",
    "    - *Why?*\n",
    "        - Let's imagine 2 scenarios\n",
    "            1. All the women are beside eachother, followed by all the men\n",
    "                - In this scenario, all the women go into the gap before $M_{1}$\n",
    "            2. The same as 1, except at the end\n",
    "                - In this scenario, all the women go into the gap after $M_{8}$\n",
    "        - Similarly, we can imagine all the women going into any gap, or being dispersed among the gaps\n",
    "            - We think of the gaps as options, and if no women sit in one of them, then the two men adjacent to that gap are considered to be sitting next to eachother"
   ]
  },
  {
   "cell_type": "markdown",
   "metadata": {},
   "source": [
    "- If the men and women were all distinct, then we'd have $(7+8)!$ different seat arrangements\n",
    "    - But since to us, they aren't distinct, the number of arrangements is equal to:\n",
    "    \n",
    "$$\n",
    "N(\\text{Distinct Arrangements}) = \\frac{15!}{7!8!} = \\binom{15}{7}\n",
    "$$"
   ]
  },
  {
   "cell_type": "markdown",
   "metadata": {},
   "source": [
    "- Now we think about scenarios in terms of the gaps that don't get filled\n",
    "\n",
    "**Scenario 1 - 8 of the gaps don't get filled**\n",
    "\n",
    "- There are $\\binom{9}{8}$ ways that this can happen and they all result in two couples (except for the end seats) has probability"
   ]
  },
  {
   "cell_type": "markdown",
   "metadata": {},
   "source": [
    "_____\n",
    "\n",
    "**Code Tieout**"
   ]
  },
  {
   "cell_type": "code",
   "execution_count": 35,
   "metadata": {},
   "outputs": [],
   "source": [
    "import numpy as np\n",
    "from math import factorial"
   ]
  },
  {
   "cell_type": "code",
   "execution_count": 48,
   "metadata": {},
   "outputs": [],
   "source": [
    "array_seat_choices = (np.arange(1,10),)*7"
   ]
  },
  {
   "cell_type": "code",
   "execution_count": 49,
   "metadata": {},
   "outputs": [],
   "source": [
    "W1, W2, W3, W4, W5, W6, W7 = np.meshgrid(*array_seat_choices)"
   ]
  },
  {
   "cell_type": "code",
   "execution_count": 50,
   "metadata": {},
   "outputs": [],
   "source": [
    "permutations = np.c_[W1.ravel(), W2.ravel(), W3.ravel(), W4.ravel(), W5.ravel(), W6.ravel(), W7.ravel()]"
   ]
  },
  {
   "cell_type": "code",
   "execution_count": 51,
   "metadata": {},
   "outputs": [],
   "source": [
    "distinct_permutations = np.unique(np.sort(permutations, axis=1), axis=0)"
   ]
  },
  {
   "cell_type": "code",
   "execution_count": 52,
   "metadata": {},
   "outputs": [
    {
     "data": {
      "text/plain": [
       "6435"
      ]
     },
     "execution_count": 52,
     "metadata": {},
     "output_type": "execute_result"
    }
   ],
   "source": [
    "len(distinct_permutations)"
   ]
  },
  {
   "cell_type": "code",
   "execution_count": 53,
   "metadata": {},
   "outputs": [],
   "source": [
    "from scipy.special import comb"
   ]
  },
  {
   "cell_type": "code",
   "execution_count": 54,
   "metadata": {},
   "outputs": [
    {
     "data": {
      "text/plain": [
       "6435.0"
      ]
     },
     "execution_count": 54,
     "metadata": {},
     "output_type": "execute_result"
    }
   ],
   "source": [
    "comb(15, 7)"
   ]
  },
  {
   "cell_type": "markdown",
   "metadata": {},
   "source": [
    "- So we know we have the correct number of distinct arrangements above"
   ]
  },
  {
   "cell_type": "code",
   "execution_count": 67,
   "metadata": {},
   "outputs": [],
   "source": [
    "distinct_seats = [set(x) for x in distinct_permutations]"
   ]
  },
  {
   "cell_type": "markdown",
   "metadata": {},
   "source": [
    "- We know that if there's someone in seat 1 or 9, then that results in only one couple\n",
    "    - Otherwise, it results in 2"
   ]
  },
  {
   "cell_type": "code",
   "execution_count": 71,
   "metadata": {},
   "outputs": [],
   "source": [
    "list_n_couples = [(1)*len(x & {1,9}) + (2)*len(x&{2,3,4,5,6,7}) for x in distinct_seats]"
   ]
  },
  {
   "cell_type": "code",
   "execution_count": 72,
   "metadata": {},
   "outputs": [
    {
     "data": {
      "text/plain": [
       "6.533333333333333"
      ]
     },
     "execution_count": 72,
     "metadata": {},
     "output_type": "execute_result"
    }
   ],
   "source": [
    "np.mean(list_n_couples)"
   ]
  }
 ],
 "metadata": {
  "kernelspec": {
   "display_name": "Python 3",
   "language": "python",
   "name": "python3"
  },
  "language_info": {
   "codemirror_mode": {
    "name": "ipython",
    "version": 3
   },
   "file_extension": ".py",
   "mimetype": "text/x-python",
   "name": "python",
   "nbconvert_exporter": "python",
   "pygments_lexer": "ipython3",
   "version": "3.6.4"
  }
 },
 "nbformat": 4,
 "nbformat_minor": 2
}
