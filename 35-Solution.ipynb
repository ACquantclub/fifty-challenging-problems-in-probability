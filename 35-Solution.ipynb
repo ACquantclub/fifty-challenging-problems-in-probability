{
 "cells": [
  {
   "cell_type": "markdown",
   "metadata": {},
   "source": [
    "# The Cliff-Hanger\n",
    "\n",
    "- From where he stands, one step toward the cliff would send the drunken man over the edge\n",
    "- He takes random steps, either toward or away from the cliff\n",
    "- At any step his probability of taking a step away is 2/3\n",
    "- *What is his chance of escaping the cliff?*"
   ]
  }
 ],
 "metadata": {
  "kernelspec": {
   "display_name": "Python 3",
   "language": "python",
   "name": "python3"
  },
  "language_info": {
   "codemirror_mode": {
    "name": "ipython",
    "version": 3
   },
   "file_extension": ".py",
   "mimetype": "text/x-python",
   "name": "python",
   "nbconvert_exporter": "python",
   "pygments_lexer": "ipython3",
   "version": "3.6.4"
  }
 },
 "nbformat": 4,
 "nbformat_minor": 2
}
