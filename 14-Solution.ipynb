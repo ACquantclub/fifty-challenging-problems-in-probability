{
 "cells": [
  {
   "cell_type": "markdown",
   "metadata": {},
   "source": [
    "# Collecting Coupons\n",
    "\n",
    "- Coupons in cereal boxes are numbered 1 to 5\n",
    "    - All 5 coupons must be collected to receive a prize\n",
    "- *With one coupon per box, how many coupons on average are required to make a complete set?*"
   ]
  },
  {
   "cell_type": "markdown",
   "metadata": {},
   "source": [
    "_____\n",
    "\n",
    "- First, we'll think of the probability that we get all 5 coupons in our first 5 boxes\n",
    "    - There are $5!$ different permutations of the ordering of coupons, and $5^{5}$ different scenarios overall for the 5 boxes\n",
    "    \n",
    "$$\n",
    "P(\\text{5 distinct coupons in 5 boxes}) = \\frac{5!}{5^{5}} = \\frac{4!}{5^{4}}\n",
    "$$"
   ]
  },
  {
   "cell_type": "markdown",
   "metadata": {},
   "source": [
    "- Next, we consider the case where it takes us 6 boxes to get all 5 coupons\n",
    "    - The easy part is knowing that there are $5^{6}$ different scenarios to get 6 coupons\n",
    "- Now, counting the number of ways we can get 5 coupons in 6 boxes:\n",
    "    - For the first coupon, it's impossible for it already to be a duplicate, so there are 5 possible \"first coupons\"\n",
    "    - Next, **if the second coupon is a duplicate**, there's only one possible coupon it can be (the first one)\n",
    "        - So, the number of ways this can happen is $5\\cdot1\\cdot4\\cdot3\\cdot2\\cdot1$\n",
    "    - Assuming the **second coupon is NOT a duplicate**, then there's 4 possible coupons to get in the second box\n",
    "    - If the **third coupon is a duplicate**, there are 2 options now (the first or the second coupon)\n",
    "        - Therefore, the number of ways this can happen is $5\\cdot4\\cdot2\\cdot3\\cdot2\\cdot1$\n",
    "    - If the **fourth coupon is a duplicate**, there are now 3 options so the number of ways it can happen is $5\\cdot4\\cdot3\\cdot3\\cdot2\\cdot1$\n",
    "    - The final scenario is that the **fifth is a duplicate** which has $5\\cdot4\\cdot3\\cdot2\\cdot4\\cdot1$ ways of happening\n",
    "        - *Why can't the 6th be the duplicate?*\n",
    "            - Because we wouldn't open a 6th box if we hadn't had a duplicate yet (since we'd already have all 5)"
   ]
  },
  {
   "cell_type": "markdown",
   "metadata": {},
   "source": [
    "- Therefore the probability is:\n",
    "\n",
    "$$\n",
    "P(\\text{5 distinct coupons in 6 boxes}) = \\frac{(1 + 2 + 3 + 4)\\cdot5\\cdot4\\cdot3\\cdot2\\cdot1}{5^{6}} = \\frac{10 \\cdot 4!}{5^{5}} = 2 \\frac{4!}{5^{4}}\n",
    "$$"
   ]
  },
  {
   "cell_type": "markdown",
   "metadata": {},
   "source": [
    "- Now, let's consider the case of getting 5 distinct in 7 boxes\n",
    "    - First can't be a duplicate\n",
    "    - If the **second is a duplicate**, then we need to consider where the other duplicate goes\n",
    "        - If it's the third, it can only be one card (the first)\n",
    "        - If it's the fourth, it can be one of two (the first or the third)\n",
    "        - If it's fifth, if can be one of three (the first, the third, or the fouth)\n",
    "        - If it's the sixth, if can be one of four (the first, the third, the fourth, or the fifth)\n",
    "        - The subtotal number of ways this can happen is $(1+2+3+4)\\cdot5\\cdot1\\cdot4\\cdot3\\cdot2\\cdot1 = 10\\cdot1\\cdot5!$\n",
    "    - If the second isn't a duplicate and the **third is**, it's the same calculation above except with some small adjustments\n",
    "        - The subtotal number of ways this can happen is $(2+3+4)\\cdot5\\cdot4\\cdot2\\cdot3\\cdot2\\cdot1 = 9\\cdot2\\cdot5!$\n",
    "    - If the **first duplicate is the fourth**, the subtotal number of ways this can happen is $(3+4)\\cdot5\\cdot4\\cdot3\\cdot3\\cdot2\\cdot1 = 7\\cdot3\\cdot5!$\n",
    "    - If the **first duplicate is the fifth**, the subtotal number of ways this can happen is $(4)\\cdot5\\cdot4\\cdot3\\cdot2\\cdot4\\cdot1=4\\cdot4\\cdot5!$"
   ]
  },
  {
   "cell_type": "markdown",
   "metadata": {},
   "source": [
    "- Therefore, the probability is equal to:\n",
    "\n",
    "$$\n",
    "P(\\text{5 distinct coupons in 7 boxes}) = \\frac{(10 + 18 + 15 + 16)\\cdot5!}{5^{7}} = \\frac{65\\cdot4!}{5^{6}} = \\frac{13}{5}\\frac{4!}{5^{4}}\n",
    "$$"
   ]
  },
  {
   "cell_type": "markdown",
   "metadata": {},
   "source": [
    "____\n",
    "\n",
    "- Let's simulate this"
   ]
  },
  {
   "cell_type": "code",
   "execution_count": 20,
   "metadata": {},
   "outputs": [],
   "source": [
    "from math import factorial\n",
    "import numpy as np"
   ]
  },
  {
   "cell_type": "code",
   "execution_count": 21,
   "metadata": {},
   "outputs": [],
   "source": [
    "def sim():\n",
    "    list_coupons = []\n",
    "    count = 0\n",
    "    while sorted(set(list_coupons))!=[1,2,3,4,5]:\n",
    "        count += 1\n",
    "        new_coupon = np.random.randint(1,6)\n",
    "        list_coupons.append(new_coupon)\n",
    "    return count"
   ]
  },
  {
   "cell_type": "code",
   "execution_count": 27,
   "metadata": {},
   "outputs": [],
   "source": [
    "n_trials = 1000000\n",
    "list_results = []\n",
    "\n",
    "for trial in range(n_trials):\n",
    "    list_results.append(sim())"
   ]
  },
  {
   "cell_type": "code",
   "execution_count": 35,
   "metadata": {},
   "outputs": [
    {
     "data": {
      "text/plain": [
       "0.099944"
      ]
     },
     "execution_count": 35,
     "metadata": {},
     "output_type": "execute_result"
    }
   ],
   "source": [
    "list_results.count(7)/n_trials"
   ]
  },
  {
   "cell_type": "code",
   "execution_count": 36,
   "metadata": {},
   "outputs": [
    {
     "data": {
      "text/plain": [
       "0.09984"
      ]
     },
     "execution_count": 36,
     "metadata": {},
     "output_type": "execute_result"
    }
   ],
   "source": [
    "13*factorial(4)/5**5"
   ]
  }
 ],
 "metadata": {
  "kernelspec": {
   "display_name": "Python 3",
   "language": "python",
   "name": "python3"
  },
  "language_info": {
   "codemirror_mode": {
    "name": "ipython",
    "version": 3
   },
   "file_extension": ".py",
   "mimetype": "text/x-python",
   "name": "python",
   "nbconvert_exporter": "python",
   "pygments_lexer": "ipython3",
   "version": "3.6.5"
  }
 },
 "nbformat": 4,
 "nbformat_minor": 2
}
