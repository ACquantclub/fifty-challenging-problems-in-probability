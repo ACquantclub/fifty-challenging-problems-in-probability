{
 "cells": [
  {
   "cell_type": "markdown",
   "metadata": {},
   "source": [
    "# The Thick Coin\n",
    "\n",
    "- *How thick should a coin be to have a 1/3 chance of landing on its edge?*"
   ]
  },
  {
   "cell_type": "markdown",
   "metadata": {},
   "source": [
    "_____\n",
    "\n",
    "- This problem is trickier than it seems at first\n",
    "\n",
    "- Initially, the solution seems to be simple\n",
    "\n",
    "**First attempt**\n",
    "- *If a coin has a face of size $F$ and an edge length of $E$, then the probability that it lands on its edge is equal to $E/(E+F) \\implies 1/3 = E/(E+F) \\implies E + F = 3E \\implies E = F/2$ so the edge should be half the length of the face*\n",
    "    - **But this is wrong!**"
   ]
  },
  {
   "cell_type": "markdown",
   "metadata": {},
   "source": [
    "- *Why is it wrong?*\n",
    "    - Because we need to think about the coin's rotation path (a circle)\n",
    "    \n",
    "**Next attempt**"
   ]
  },
  {
   "cell_type": "markdown",
   "metadata": {},
   "source": [
    "![](images/38-1.png)"
   ]
  },
  {
   "cell_type": "markdown",
   "metadata": {},
   "source": [
    "- If we imagine the coin rotating with the face perpendicular to us (so we only see the edge rotating end-over-end as shown above), then we can think of the probability of landing on the edge as the probability of landing in the green zone\n",
    "    - This is analogous to spinning a spinner and having it land in the green zone\n",
    "        - Therefore, we need to calculate the proportion of the circle's circumference that lies in the green zone"
   ]
  },
  {
   "cell_type": "markdown",
   "metadata": {},
   "source": [
    "![](images/38-2.png)"
   ]
  },
  {
   "cell_type": "markdown",
   "metadata": {},
   "source": [
    "- To calculate the proportion, we simply need to figure out the value of angle $a$ shown above"
   ]
  },
  {
   "cell_type": "markdown",
   "metadata": {},
   "source": [
    "- We know that the length of the orange line is $F/2$, and the length of the yellow line is $E/2$\n",
    "    - The yellow line is opposite to angle $a$, and the orange line is adjacent\n",
    "        - Therefore $\\tan a = \\frac{E/2}{F/2} = E/F$\n",
    "        \n",
    "- We want the proportion to be equal to 1/3 $\\implies a = \\pi/6 \\implies E/F = tan(\\pi/6) \\approx 0.5773$ therefore the length of the edge should be about 0.57 times the length of the face\n",
    "    - **This is also wrong!**"
   ]
  },
  {
   "cell_type": "markdown",
   "metadata": {},
   "source": [
    "- *Why is this one wrong?*\n",
    "    - Because we're only thinking about it in two dimensions"
   ]
  },
  {
   "cell_type": "markdown",
   "metadata": {},
   "source": [
    "____\n",
    "\n",
    "**Final attempt**"
   ]
  }
 ],
 "metadata": {
  "kernelspec": {
   "display_name": "Python 3",
   "language": "python",
   "name": "python3"
  },
  "language_info": {
   "codemirror_mode": {
    "name": "ipython",
    "version": 3
   },
   "file_extension": ".py",
   "mimetype": "text/x-python",
   "name": "python",
   "nbconvert_exporter": "python",
   "pygments_lexer": "ipython3",
   "version": "3.6.4"
  }
 },
 "nbformat": 4,
 "nbformat_minor": 2
}
