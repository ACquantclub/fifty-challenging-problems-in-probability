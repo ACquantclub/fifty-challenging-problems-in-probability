{
 "cells": [
  {
   "cell_type": "markdown",
   "metadata": {},
   "source": [
    "- A bar is broken at two random places\n",
    "- *Find the average size of the smallest, middle, and largest piece*"
   ]
  },
  {
   "cell_type": "markdown",
   "metadata": {},
   "source": [
    "___\n",
    "\n",
    "# Smallest"
   ]
  },
  {
   "cell_type": "markdown",
   "metadata": {},
   "source": [
    "- We can think of our bar as a line from 0 to 1\n",
    "- There will be two break points on the bar\n",
    "    - Let $X_{1}$ be the smaller break point i.e. closest to 0\n",
    "    - Let $X_{2}$ be the larger break point"
   ]
  },
  {
   "cell_type": "markdown",
   "metadata": {},
   "source": [
    "![](images/43-1.png)"
   ]
  },
  {
   "cell_type": "markdown",
   "metadata": {},
   "source": [
    "- Let's work through some possible values of $X_{1}$ and see how the smallest piece is affected by $X_{2}$"
   ]
  },
  {
   "cell_type": "markdown",
   "metadata": {},
   "source": [
    "___\n",
    "\n",
    "**Example 1: $X_{1} = 0.1$**\n",
    "\n",
    "- Then, we know that $X_{2}$ must be greater than 0.1\n",
    "- Let's say $X_{2} = 0.15$\n",
    "    - Then, the first piece has length 0.1, the second piece has length 0.15 - 0.1 = 0.05, and the third piece has length 1 - 0.15 = 0.85\n",
    "        - This means that the second piece is the smallest\n",
    "        \n",
    "- Now, let's try $X_{2} = 0.25$\n",
    "    - First piece: 0.1\n",
    "    - Second piece: 0.25 - 0.1 = 0.15\n",
    "    - Third piece: 1 - 0.25 = 0.75\n",
    "        - This means the second piece is the smallest\n",
    "        \n",
    "- Finally, let's try $X_{2} = 0.95$\n",
    "    - First piece = 0.1\n",
    "    - Second piece = 0.95 - 0.1 = 0.85\n",
    "    - Third piece = 1 - 0.95 = 0.05\n",
    "        - This means the third piece is the smallest"
   ]
  },
  {
   "cell_type": "markdown",
   "metadata": {},
   "source": [
    "- As we can see from this test case, we can split the possible $X_{2}$ values into three zones\n",
    "    1. If $X_{2} < 0.2 \\implies$ the second piece is the smallest with length $X_{2} - X_{1}$\n",
    "    2. If $0.2 \\leq X_{2} \\leq 0.9 \\implies$ the first piece is the smallest with length $X_{1}$\n",
    "    3. If $0.9 < X_{2} \\implies $ the third piece is the smallest with length $1-X_{2}$"
   ]
  },
  {
   "cell_type": "markdown",
   "metadata": {},
   "source": [
    "- If we define $S$ to be the length of the smallest piece, then:\n",
    "\n",
    "$$\n",
    "S = \\left\\{\\begin{matrix}X_{2}-X_{1} & \\text{if }X_{1}\\leq X_{2}\\leq 2X_{1}\\\\ X_{1} & 2X_{1} < X_{2} < 1-X_{1}\\\\ 1-X_{2} & 1-X_{1}\\leq X_{2}\\end{matrix}\\right.\n",
    "$$"
   ]
  },
  {
   "cell_type": "markdown",
   "metadata": {},
   "source": [
    "___\n",
    "\n",
    "**Example 2: $X_{1} = 0.45$**"
   ]
  },
  {
   "cell_type": "markdown",
   "metadata": {},
   "source": [
    "- Let's try splitting this into zones again\n",
    "    1. If $X_{2} < 0.725 \\implies$ the second piece is the smallest with length $X_{2} - X_{1}$\n",
    "    2. If $0.725 < X_{2} \\implies $ the third piece is the smallest with length $1-X_{2}$\n",
    "    \n",
    "- **We can see that in this case, it's not possible that the first piece is the smallest since on of the third piece or the second piece will be smaller than 0.45**"
   ]
  },
  {
   "cell_type": "markdown",
   "metadata": {},
   "source": [
    "- So, in this case:\n",
    "\n",
    "$$\n",
    "S = \\left\\{\\begin{matrix}X_{2}-X_{1} & \\text{if }X_{2}\\leq \\frac{1+X_{1}}{2}\\\\ 1-X_{2} & \\frac{1+X_{1}}{2}\\leq X_{2}\\end{matrix}\\right.\n",
    "$$\n",
    "\n",
    "___"
   ]
  },
  {
   "cell_type": "markdown",
   "metadata": {},
   "source": [
    "- So now, if we think about it, if $X_{1}>1/3$, it's impossible for the smallest piece to be the first piece\n",
    "    - If $X_{1}$ is equal to say 0.35, then there's 0.65 remaining to be split between the other two pieces\n",
    "        - The smaller of the two pieces will always be less than 0.35"
   ]
  },
  {
   "cell_type": "markdown",
   "metadata": {},
   "source": [
    "- Since $X_{1}$ is both uniformly distributed across $[0,1]$, the pdf is equal to $f(x_{1}) = 1$"
   ]
  },
  {
   "cell_type": "markdown",
   "metadata": {},
   "source": [
    "- But $X_{2}$ isn't uniformly distributed across $[0,1]$\n",
    "    - It is uniformly distributed across $[X_{1},1]$\n",
    "        - Therefore its pdf is equal to $f(x_{2})=\\frac{1}{1 - X_{1}}$"
   ]
  },
  {
   "cell_type": "markdown",
   "metadata": {},
   "source": [
    "- We can integrate this over the possible values of $X_{1}$ and $X_{2}$ to solve for $E(S)$:"
   ]
  },
  {
   "cell_type": "markdown",
   "metadata": {},
   "source": [
    "$$\n",
    "E(S | X_{1} = x_{1} \\leq 0.33) = \\int_{x_{1}}^{2x_{1}}\\frac{1}{1 - x_{1}}(x-x_{1})dx + \\int_{2x_{1}}^{1-x_{1}}\\frac{1}{1 - x_{1}}x_{1}dx + \\int_{1-x_{1}}^{1}\\frac{1}{1 - x_{1}}(1-x)dx\n",
    "$$"
   ]
  },
  {
   "cell_type": "markdown",
   "metadata": {},
   "source": [
    "$$\n",
    "= \\frac{x_{1}^{2}}{1-x_{1}} + x_{1}\\frac{1-3x_{1}}{1-x_{1}}\n",
    "$$"
   ]
  },
  {
   "cell_type": "markdown",
   "metadata": {},
   "source": [
    "$$\n",
    "E(S | X_{1} = x_{1} > 0.33) = \\int_{x_{1}}^{\\frac{1+x_{1}}{2}}\\frac{x-x_{1}}{1-x_{1}}dx + \\int_{\\frac{1+x_{1}}{2}}^{1}\\frac{1-x}{1-x_{1}}dx\n",
    "$$"
   ]
  },
  {
   "cell_type": "markdown",
   "metadata": {},
   "source": [
    "$$\n",
    "= \\frac{1-x_{1}}{4}\n",
    "$$"
   ]
  },
  {
   "cell_type": "markdown",
   "metadata": {},
   "source": [
    "$$\n",
    "\\implies E(S) = \\int_{0}^{1/3}\\frac{x^{2}}{1-x} + x\\frac{1-3x}{1-x} dx + \\int_{1/3}^{1}\\frac{1-x}{4}dx\n",
    "$$"
   ]
  },
  {
   "cell_type": "markdown",
   "metadata": {},
   "source": [
    "$$\n",
    "= 4/9 - \\log(3/2) + 1/18\n",
    "$$"
   ]
  },
  {
   "cell_type": "markdown",
   "metadata": {},
   "source": [
    "_____\n",
    "\n",
    "- Let's simulate a bunch of pieces to tie out with our derived values"
   ]
  },
  {
   "cell_type": "code",
   "execution_count": 1,
   "metadata": {},
   "outputs": [],
   "source": [
    "import numpy as np"
   ]
  },
  {
   "cell_type": "code",
   "execution_count": 21,
   "metadata": {},
   "outputs": [],
   "source": [
    "N_TRIALS = 100000000\n",
    "array_breakpoints = np.sort(np.random.random(size=(N_TRIALS, 2)), axis=1)\n",
    "piece_1 = array_breakpoints[:,0]\n",
    "piece_2 = array_breakpoints[:,1] - array_breakpoints[:,0]\n",
    "piece_3 = 1-array_breakpoints[:,1]"
   ]
  },
  {
   "cell_type": "code",
   "execution_count": 22,
   "metadata": {},
   "outputs": [],
   "source": [
    "small_piece, middle_piece, big_piece = np.sort(np.array([piece_1, piece_2, piece_3]), axis=0)"
   ]
  },
  {
   "cell_type": "code",
   "execution_count": 23,
   "metadata": {},
   "outputs": [
    {
     "data": {
      "text/plain": [
       "0.11111093245716461"
      ]
     },
     "execution_count": 23,
     "metadata": {},
     "output_type": "execute_result"
    }
   ],
   "source": [
    "np.mean(small_piece)"
   ]
  },
  {
   "cell_type": "code",
   "execution_count": 24,
   "metadata": {},
   "outputs": [
    {
     "data": {
      "text/plain": [
       "0.27776228276072407"
      ]
     },
     "execution_count": 24,
     "metadata": {},
     "output_type": "execute_result"
    }
   ],
   "source": [
    "np.mean(middle_piece)"
   ]
  },
  {
   "cell_type": "code",
   "execution_count": 25,
   "metadata": {},
   "outputs": [
    {
     "data": {
      "text/plain": [
       "0.611126784782113"
      ]
     },
     "execution_count": 25,
     "metadata": {},
     "output_type": "execute_result"
    }
   ],
   "source": [
    "np.mean(big_piece)"
   ]
  }
 ],
 "metadata": {
  "kernelspec": {
   "display_name": "Python 3",
   "language": "python",
   "name": "python3"
  },
  "language_info": {
   "codemirror_mode": {
    "name": "ipython",
    "version": 3
   },
   "file_extension": ".py",
   "mimetype": "text/x-python",
   "name": "python",
   "nbconvert_exporter": "python",
   "pygments_lexer": "ipython3",
   "version": "3.6.5"
  }
 },
 "nbformat": 4,
 "nbformat_minor": 2
}
